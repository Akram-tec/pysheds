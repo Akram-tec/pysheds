{
 "cells": [
  {
   "cell_type": "code",
   "execution_count": 1,
   "metadata": {
    "collapsed": true
   },
   "outputs": [],
   "source": [
    "import numpy as np\n",
    "import matplotlib.pyplot as plt\n",
    "import matplotlib.colors as colors\n",
    "from pysheds.grid import Grid\n",
    "\n",
    "%matplotlib inline"
   ]
  },
  {
   "cell_type": "code",
   "execution_count": 3,
   "metadata": {
    "collapsed": true
   },
   "outputs": [],
   "source": [
    "grid = Grid.from_raster('../data/n30w100_dir',\n",
    "                        data_name='dir', input_type='ascii')\n",
    "\n",
    "         #N    NE    E    SE    S    SW    W    NW\n",
    "dirmap = (64,  128,  1,   2,    4,   8,    16,  32)"
   ]
  },
  {
   "cell_type": "code",
   "execution_count": 22,
   "metadata": {
    "collapsed": false
   },
   "outputs": [
    {
     "name": "stdout",
     "output_type": "stream",
     "text": [
      "6000  x  6000  grid\n",
      "36000000  gridcells\n",
      "36.0 MB in memory (stored as uint8)\n"
     ]
    }
   ],
   "source": [
    "gridsize = grid.dir.size\n",
    "gridshape = grid.dir.shape\n",
    "gridbytes = grid.dir.nbytes\n",
    "\n",
    "print(gridshape[0], ' x ', gridshape[1], ' grid')\n",
    "print(gridsize, ' gridcells')\n",
    "print(gridbytes / 1000000, 'MB in memory (stored as uint8)')"
   ]
  },
  {
   "cell_type": "code",
   "execution_count": 25,
   "metadata": {
    "collapsed": true
   },
   "outputs": [],
   "source": [
    "fdir = grid.view('dir')"
   ]
  },
  {
   "cell_type": "code",
   "execution_count": 26,
   "metadata": {
    "collapsed": false
   },
   "outputs": [
    {
     "name": "stdout",
     "output_type": "stream",
     "text": [
      "1 loop, best of 3: 28.3 s per loop\n"
     ]
    }
   ],
   "source": [
    "%timeit grid.accumulation(fdir, dirmap=dirmap, pad_inplace=True, direction_name='dir')"
   ]
  },
  {
   "cell_type": "code",
   "execution_count": 29,
   "metadata": {
    "collapsed": false
   },
   "outputs": [],
   "source": [
    "pour_y, pour_x = np.unravel_index(np.argmax(grid.acc), gridshape)"
   ]
  },
  {
   "cell_type": "code",
   "execution_count": 33,
   "metadata": {
    "collapsed": false
   },
   "outputs": [
    {
     "name": "stdout",
     "output_type": "stream",
     "text": [
      "1 loop, best of 3: 4.55 s per loop\n"
     ]
    }
   ],
   "source": [
    "%timeit grid.catchment(pour_x, pour_y, dirmap=dirmap, recursionlimit=15000, xytype='index')"
   ]
  },
  {
   "cell_type": "code",
   "execution_count": 32,
   "metadata": {
    "collapsed": false
   },
   "outputs": [
    {
     "name": "stdout",
     "output_type": "stream",
     "text": [
      "9792691  cells in catchment\n"
     ]
    }
   ],
   "source": [
    "catchment_cells = np.count_nonzero(grid.view('catch'))\n",
    "print(catchment_cells, ' cells in catchment')"
   ]
  },
  {
   "cell_type": "code",
   "execution_count": null,
   "metadata": {
    "collapsed": true
   },
   "outputs": [],
   "source": []
  }
 ],
 "metadata": {
  "kernelspec": {
   "display_name": "Python 3",
   "language": "python",
   "name": "python3"
  },
  "language_info": {
   "codemirror_mode": {
    "name": "ipython",
    "version": 3
   },
   "file_extension": ".py",
   "mimetype": "text/x-python",
   "name": "python",
   "nbconvert_exporter": "python",
   "pygments_lexer": "ipython3",
   "version": "3.6.0"
  }
 },
 "nbformat": 4,
 "nbformat_minor": 2
}
